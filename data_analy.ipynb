{
 "cells": [
  {
   "cell_type": "code",
   "execution_count": 1,
   "metadata": {
    "collapsed": true,
    "pycharm": {
     "is_executing": false
    }
   },
   "outputs": [],
   "source": [
    "import json\n",
    "import numpy as np\n",
    "\n",
    "from pyspark.sql import SQLContext, HiveContext, SparkSession\n",
    "from pyspark import SparkConf, SparkContext\n",
    "from pyspark.ml.feature import Word2VecModel\n",
    "from pyspark.sql import Row\n",
    "\n",
    "# import traceback\n",
    "# from src.read_files import ReadFiles\n",
    "# from src.tools_fuction import Tools\n",
    "from pyspark.sql import functions as sf\n",
    "\n",
    "appname = \"similar14i34yu\"  # 任务名称\n",
    "# master = \"spark://XXX.XXX.XX.XX:XXXX\"  # \"spark://host:port\"\n",
    "master = \"yarn\"  # \"spark://host:port\"\n",
    "'''\n",
    "standalone模式:spark://host:port,Spark会自己负责资源的管理调度\n",
    "mesos模式:mesos://host:port\n",
    "yarn模式:由于很多时候我们需要和mapreduce使用同一个集群，所以都采用Yarn来管理资源调度，这也是生产环境大多采用yarn模式的原因。yarn模式又分为yarn cluster模式和yarn client模式：\n",
    "yarn cluster: 这个就是生产环境常用的模式，所有的资源调度和计算都在集群环境上运行。\n",
    "yarn client: 这个是说Spark Driver和ApplicationMaster进程均在本机运行，而计算任务在cluster上。\n",
    "'''\n",
    "spark_driver_host = \"10.126.107.75\"  # 本地主机ip\n",
    "\n",
    "conf = SparkConf().setAppName(appname).setMaster(master).set(\"spark.driver.host\", spark_driver_host)\n",
    "\n"
   ]
  },
  {
   "cell_type": "code",
   "execution_count": 2,
   "outputs": [],
   "source": [
    "class SparkDriveThings():\n",
    "    def __init__(self, conf):\n",
    "        self.spark_session = SparkSession.builder.config(conf=conf).enableHiveSupport().getOrCreate()\n",
    "        self.sc = self.spark_session.sparkContext\n",
    "        self.sqlContext = SQLContext(self.sc)\n",
    "        self.userDataDf = self.sqlContext.read.format(\"com.databricks.spark.csv\").\\\n",
    "            options(header=\"true\",inferschema=\"true\").\\\n",
    "            load(\"/home/hdp_lbg_ectech/resultdata/strategy/ads/linJQ_test/tencent_ad_compete/train_data/user.csv\")\n",
    "\n",
    "        self.adDataDf = self.sqlContext.read.format(\"com.databricks.spark.csv\").\\\n",
    "            options(header=\"true\",inferschema=\"true\").\\\n",
    "            load(\"/home/hdp_lbg_ectech/resultdata/strategy/ads/linJQ_test/tencent_ad_compete/train_data/ad.csv\")\n",
    "        \n",
    "        self.clkDataDf = self.sqlContext.read.format(\"com.databricks.spark.csv\").\\\n",
    "            options(header=\"true\",inferschema=\"true\").\\\n",
    "            load(\"/home/hdp_lbg_ectech/resultdata/strategy/ads/linJQ_test/tencent_ad_compete/train_data/click_log.csv\")\n"
   ],
   "metadata": {
    "collapsed": false,
    "pycharm": {
     "name": "#%%\n",
     "is_executing": false
    }
   }
  },
  {
   "cell_type": "code",
   "execution_count": 3,
   "outputs": [
    {
     "data": {
      "text/plain": "'application_1591776234013_2292347'"
     },
     "metadata": {},
     "output_type": "execute_result",
     "execution_count": 3
    }
   ],
   "source": [
    "sdt = SparkDriveThings(conf)\n",
    "sdt.sc._jsc.sc().applicationId()"
   ],
   "metadata": {
    "collapsed": false,
    "pycharm": {
     "name": "#%%\n",
     "is_executing": false
    }
   }
  },
  {
   "cell_type": "code",
   "execution_count": 13,
   "outputs": [
    {
     "name": "stdout",
     "text": [
      "+----+-------+-----------+-----------+\n",
      "|time|user_id|creative_id|click_times|\n",
      "+----+-------+-----------+-----------+\n",
      "|   9|  30920|     567330|          1|\n",
      "|  65|  30920|    3072255|          1|\n",
      "|  56|  30920|    2361327|          1|\n",
      "|   6| 309204|     325532|          1|\n",
      "|  59| 309204|    2746730|          1|\n",
      "+----+-------+-----------+-----------+\n",
      "only showing top 5 rows\n",
      "\n"
     ],
     "output_type": "stream"
    }
   ],
   "source": [
    "\n",
    "adData = sdt.clkDataDf.show(5)"
   ],
   "metadata": {
    "collapsed": false,
    "pycharm": {
     "name": "#%%\n",
     "is_executing": false
    }
   }
  },
  {
   "cell_type": "code",
   "execution_count": 4,
   "outputs": [],
   "source": [
    "clk_user_infoDf = sdt.clkDataDf.na.drop()\\\n",
    "    .join(sdt.userDataDf.na.drop(),'user_id',how='left')"
   ],
   "metadata": {
    "collapsed": false,
    "pycharm": {
     "name": "#%%\n",
     "is_executing": false
    }
   }
  },
  {
   "cell_type": "code",
   "execution_count": 5,
   "outputs": [],
   "source": [
    "clk_user_ad_infoDf = clk_user_infoDf\\\n",
    "    .join(sdt.adDataDf.na.drop(),'creative_id',how='left')"
   ],
   "metadata": {
    "collapsed": false,
    "pycharm": {
     "name": "#%%\n",
     "is_executing": false
    }
   }
  },
  {
   "cell_type": "code",
   "execution_count": 6,
   "outputs": [],
   "source": [
    "clk_user_ad_infoConcatDf = clk_user_ad_infoDf\\\n",
    "    .withColumn(\n",
    "    'clk_info',\n",
    "    sf.concat_ws(',','product_id', 'product_category', 'industry','click_times')\n",
    ")"
   ],
   "metadata": {
    "collapsed": false,
    "pycharm": {
     "name": "#%%\n",
     "is_executing": false
    }
   }
  },
  {
   "cell_type": "code",
   "execution_count": null,
   "outputs": [],
   "source": [
    "clk_user_ad_infoConcatDf.show(5)"
   ],
   "metadata": {
    "collapsed": false,
    "pycharm": {
     "name": "#%%\n",
     "is_executing": true
    }
   }
  },
  {
   "cell_type": "code",
   "execution_count": 11,
   "outputs": [],
   "source": [
    "res = clk_user_ad_infoConcatDf.groupBy('user_id','gender','age').agg(\n",
    "    sf.collect_list('clk_info')\n",
    ").withColumn('productId_productCategory_industry_clickTimes',sf.concat_ws('_','collect_list(clk_info)'))\\\n",
    "    .select('user_id','gender','age','productId_productCategory_industry_clickTimes')\n"
   ],
   "metadata": {
    "collapsed": false,
    "pycharm": {
     "name": "#%%\n",
     "is_executing": false
    }
   }
  },
  {
   "cell_type": "code",
   "execution_count": 12,
   "outputs": [
    {
     "name": "stdout",
     "text": [
      "+-------+------+---+---------------------------------------------+\n",
      "|user_id|gender|age|productId_productCategory_industry_clickTimes|\n",
      "+-------+------+---+---------------------------------------------+\n",
      "|      1|     1|  4|                         \\N,5,106,1_\\N,5,7...|\n",
      "|      4|     1|  5|                         39422,17,\\N,1_206...|\n",
      "|     13|     2|  6|                         1305,2,319,1_1862...|\n",
      "|     20|     1|  4|                         129,2,6,1_1036,2,...|\n",
      "|     21|     2|  6|                         \\N,18,24,1_39519,...|\n",
      "+-------+------+---+---------------------------------------------+\n",
      "only showing top 5 rows\n",
      "\n"
     ],
     "output_type": "stream"
    }
   ],
   "source": [
    "res.show(5)"
   ],
   "metadata": {
    "collapsed": false,
    "pycharm": {
     "name": "#%%\n",
     "is_executing": false
    }
   }
  },
  {
   "cell_type": "code",
   "execution_count": 13,
   "outputs": [],
   "source": [
    "res.write.mode(\"overwrite\").options(header=\"true\").csv(\"/home/hdp_lbg_ectech/resultdata/strategy/ads/linJQ_test/tencent_ad_compete/clk_user_ad_info\",sep=\"\\t\")\n"
   ],
   "metadata": {
    "collapsed": false,
    "pycharm": {
     "name": "#%%\n",
     "is_executing": false
    }
   }
  }
 ],
 "metadata": {
  "kernelspec": {
   "display_name": "Python 3",
   "language": "python",
   "name": "python3"
  },
  "language_info": {
   "codemirror_mode": {
    "name": "ipython",
    "version": 2
   },
   "file_extension": ".py",
   "mimetype": "text/x-python",
   "name": "python",
   "nbconvert_exporter": "python",
   "pygments_lexer": "ipython2",
   "version": "2.7.6"
  },
  "pycharm": {
   "stem_cell": {
    "cell_type": "raw",
    "source": [],
    "metadata": {
     "collapsed": false
    }
   }
  }
 },
 "nbformat": 4,
 "nbformat_minor": 0
}